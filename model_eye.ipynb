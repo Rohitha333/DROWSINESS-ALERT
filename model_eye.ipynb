{
 "cells": [
  {
   "cell_type": "code",
   "execution_count": 3,
   "metadata": {},
   "outputs": [
    {
     "name": "stderr",
     "output_type": "stream",
     "text": [
      "Using TensorFlow backend.\n"
     ]
    }
   ],
   "source": [
    "from tensorflow import keras\n",
    "import tensorflow as tf\n",
    "from keras.layers import Dense,Dropout,Activation,Add,MaxPooling2D,Conv2D,Flatten\n",
    "from keras.models import Sequential \n",
    "from keras.preprocessing.image import ImageDataGenerator\n",
    "import numpy as np\n",
    "import matplotlib.pyplot as plt\n",
    "from keras import layers\n",
    "import seaborn as sns"
   ]
  },
  {
   "cell_type": "code",
   "execution_count": 4,
   "metadata": {},
   "outputs": [],
   "source": [
    "train_dir = 'datasets/dataset_new/train'\n",
    "val_dir = 'datasets/dataset_new/test'"
   ]
  },
  {
   "cell_type": "code",
   "execution_count": 5,
   "metadata": {},
   "outputs": [
    {
     "name": "stdout",
     "output_type": "stream",
     "text": [
      "Found 1234 images belonging to 2 classes.\n",
      "Found 218 images belonging to 2 classes.\n"
     ]
    }
   ],
   "source": [
    "train_datagen = ImageDataGenerator(\n",
    "        rescale=1./255,\n",
    "        shear_range=0.2,\n",
    "        zoom_range=0.2,\n",
    "        horizontal_flip=True)\n",
    "test_datagen = ImageDataGenerator(rescale=1./255)\n",
    "train_generator = train_datagen.flow_from_directory(\n",
    "        train_dir,\n",
    "        target_size=(48, 48),\n",
    "        batch_size=64,\n",
    "        color_mode=\"grayscale\",\n",
    "        class_mode='categorical')\n",
    "validation_generator = test_datagen.flow_from_directory(\n",
    "        val_dir,\n",
    "        target_size=(48, 48),\n",
    "        batch_size=64,\n",
    "        color_mode=\"grayscale\",\n",
    "        class_mode='categorical')"
   ]
  },
  {
   "cell_type": "code",
   "execution_count": 21,
   "metadata": {},
   "outputs": [],
   "source": [
    "num_train = len(train_generator.classes) #4846\n",
    "batch_size = 64\n",
    "num_val = len(validation_generator.classes) #218"
   ]
  },
  {
   "cell_type": "code",
   "execution_count": 22,
   "metadata": {},
   "outputs": [],
   "source": [
    "model = Sequential()\n",
    "\n",
    "model.add(Conv2D(32, kernel_size=(3, 3), activation='relu', input_shape=(48,48,1)))\n",
    "MaxPooling2D(pool_size=(2,2)),\n",
    "\n",
    "model.add(Conv2D(64, kernel_size=(3, 3), activation='relu'))\n",
    "model.add(MaxPooling2D(pool_size=(2, 2)))\n",
    "\n",
    "\n",
    "model.add(Conv2D(128, kernel_size=(3, 3), activation='relu'))\n",
    "model.add(MaxPooling2D(pool_size=(2, 2)))\n",
    "\n",
    "model.add(Dropout(0.25))\n",
    "\n",
    "model.add(Flatten())\n",
    "model.add(Dense(1024, activation='relu'))\n",
    "model.add(Dropout(0.5))\n",
    "model.add(Dense(2, activation='softmax'))"
   ]
  },
  {
   "cell_type": "code",
   "execution_count": 23,
   "metadata": {},
   "outputs": [
    {
     "name": "stdout",
     "output_type": "stream",
     "text": [
      "Epoch 1/150\n",
      "19/19 [==============================] - 17s 896ms/step - loss: 0.4204 - accuracy: 0.8274 - val_loss: 0.1628 - val_accuracy: 0.9375\n",
      "Epoch 2/150\n",
      "19/19 [==============================] - 18s 955ms/step - loss: 0.2003 - accuracy: 0.9256 - val_loss: 0.2243 - val_accuracy: 0.9545\n",
      "Epoch 3/150\n",
      "19/19 [==============================] - 16s 848ms/step - loss: 0.1579 - accuracy: 0.9385 - val_loss: 0.0646 - val_accuracy: 0.9675\n",
      "Epoch 4/150\n",
      "19/19 [==============================] - 15s 810ms/step - loss: 0.1271 - accuracy: 0.9504 - val_loss: 0.1467 - val_accuracy: 0.9481\n",
      "Epoch 5/150\n",
      "19/19 [==============================] - 16s 850ms/step - loss: 0.0921 - accuracy: 0.9726 - val_loss: 0.1617 - val_accuracy: 0.9479\n",
      "Epoch 6/150\n",
      "19/19 [==============================] - 17s 909ms/step - loss: 0.0831 - accuracy: 0.9718 - val_loss: 0.0902 - val_accuracy: 0.9740\n",
      "Epoch 7/150\n",
      "19/19 [==============================] - 17s 888ms/step - loss: 0.0680 - accuracy: 0.9745 - val_loss: 0.1072 - val_accuracy: 0.9545\n",
      "Epoch 8/150\n",
      "19/19 [==============================] - 16s 826ms/step - loss: 0.0648 - accuracy: 0.9751 - val_loss: 0.0044 - val_accuracy: 0.9675\n",
      "Epoch 9/150\n",
      "19/19 [==============================] - 17s 883ms/step - loss: 0.0611 - accuracy: 0.9762 - val_loss: 0.0159 - val_accuracy: 0.9635\n",
      "Epoch 10/150\n",
      "19/19 [==============================] - 17s 899ms/step - loss: 0.0501 - accuracy: 0.9804 - val_loss: 0.0325 - val_accuracy: 0.9805\n",
      "Epoch 11/150\n",
      "19/19 [==============================] - 16s 829ms/step - loss: 0.0537 - accuracy: 0.9803 - val_loss: 0.1268 - val_accuracy: 0.9610\n",
      "Epoch 12/150\n",
      "19/19 [==============================] - 16s 848ms/step - loss: 0.0363 - accuracy: 0.9836 - val_loss: 0.0160 - val_accuracy: 0.9740\n",
      "Epoch 13/150\n",
      "19/19 [==============================] - 15s 814ms/step - loss: 0.0264 - accuracy: 0.9920 - val_loss: 0.1322 - val_accuracy: 0.9740\n",
      "Epoch 14/150\n",
      "19/19 [==============================] - 17s 921ms/step - loss: 0.0394 - accuracy: 0.9889 - val_loss: 0.0821 - val_accuracy: 0.9870\n",
      "Epoch 15/150\n",
      "19/19 [==============================] - 16s 831ms/step - loss: 0.0401 - accuracy: 0.9836 - val_loss: 0.0428 - val_accuracy: 0.9610\n",
      "Epoch 16/150\n",
      "19/19 [==============================] - 16s 818ms/step - loss: 0.0286 - accuracy: 0.9923 - val_loss: 0.0040 - val_accuracy: 0.9675\n",
      "Epoch 17/150\n",
      "19/19 [==============================] - 16s 841ms/step - loss: 0.0166 - accuracy: 0.9911 - val_loss: 0.0124 - val_accuracy: 0.9740\n",
      "Epoch 18/150\n",
      "19/19 [==============================] - 18s 946ms/step - loss: 0.0234 - accuracy: 0.9918 - val_loss: 0.0087 - val_accuracy: 0.9675\n",
      "Epoch 19/150\n",
      "19/19 [==============================] - 16s 830ms/step - loss: 0.0199 - accuracy: 0.9947 - val_loss: 0.0074 - val_accuracy: 1.0000\n",
      "Epoch 20/150\n",
      "19/19 [==============================] - 16s 835ms/step - loss: 0.0240 - accuracy: 0.9926 - val_loss: 0.0023 - val_accuracy: 0.9740\n",
      "Epoch 21/150\n",
      "19/19 [==============================] - 16s 862ms/step - loss: 0.0301 - accuracy: 0.9880 - val_loss: 0.0143 - val_accuracy: 0.9792\n",
      "Epoch 22/150\n",
      "19/19 [==============================] - 18s 934ms/step - loss: 0.0247 - accuracy: 0.9915 - val_loss: 0.0301 - val_accuracy: 0.9870\n",
      "Epoch 23/150\n",
      "19/19 [==============================] - 17s 895ms/step - loss: 0.0234 - accuracy: 0.9932 - val_loss: 0.0736 - val_accuracy: 0.9740\n",
      "Epoch 24/150\n",
      "19/19 [==============================] - 16s 838ms/step - loss: 0.0141 - accuracy: 0.9940 - val_loss: 0.1868 - val_accuracy: 0.9805\n",
      "Epoch 25/150\n",
      "19/19 [==============================] - 18s 923ms/step - loss: 0.0149 - accuracy: 0.9951 - val_loss: 7.7546e-04 - val_accuracy: 0.9792\n",
      "Epoch 26/150\n",
      "19/19 [==============================] - 16s 850ms/step - loss: 0.0109 - accuracy: 0.9947 - val_loss: 0.1297 - val_accuracy: 0.9740\n",
      "Epoch 27/150\n",
      "19/19 [==============================] - 18s 967ms/step - loss: 0.0193 - accuracy: 0.9940 - val_loss: 0.1270 - val_accuracy: 0.9870\n",
      "Epoch 28/150\n",
      "19/19 [==============================] - 17s 910ms/step - loss: 0.0240 - accuracy: 0.9942 - val_loss: 0.0011 - val_accuracy: 0.9870\n",
      "Epoch 29/150\n",
      "19/19 [==============================] - 17s 915ms/step - loss: 0.0148 - accuracy: 0.9940 - val_loss: 0.0131 - val_accuracy: 0.9844\n",
      "Epoch 30/150\n",
      "19/19 [==============================] - 17s 911ms/step - loss: 0.0154 - accuracy: 0.9949 - val_loss: 0.0168 - val_accuracy: 0.9740\n",
      "Epoch 31/150\n",
      "19/19 [==============================] - 15s 799ms/step - loss: 0.0134 - accuracy: 0.9947 - val_loss: 0.0274 - val_accuracy: 0.9935\n",
      "Epoch 32/150\n",
      "19/19 [==============================] - 17s 872ms/step - loss: 0.0122 - accuracy: 0.9949 - val_loss: 1.0056e-04 - val_accuracy: 0.9805\n",
      "Epoch 33/150\n",
      "19/19 [==============================] - 16s 849ms/step - loss: 0.0074 - accuracy: 0.9984 - val_loss: 0.0916 - val_accuracy: 0.9844\n",
      "Epoch 34/150\n",
      "19/19 [==============================] - 16s 849ms/step - loss: 0.0155 - accuracy: 0.9956 - val_loss: 0.1859 - val_accuracy: 0.9870\n",
      "Epoch 35/150\n",
      "19/19 [==============================] - 17s 883ms/step - loss: 0.0067 - accuracy: 0.9975 - val_loss: 0.0348 - val_accuracy: 0.9870\n",
      "Epoch 36/150\n",
      "19/19 [==============================] - 16s 861ms/step - loss: 0.0035 - accuracy: 1.0000 - val_loss: 0.0030 - val_accuracy: 0.9870\n",
      "Epoch 37/150\n",
      "19/19 [==============================] - 16s 859ms/step - loss: 0.0090 - accuracy: 0.9966 - val_loss: 0.0877 - val_accuracy: 0.9844\n",
      "Epoch 38/150\n",
      "19/19 [==============================] - 17s 904ms/step - loss: 0.0106 - accuracy: 0.9966 - val_loss: 0.0193 - val_accuracy: 0.9870\n",
      "Epoch 39/150\n",
      "19/19 [==============================] - 16s 853ms/step - loss: 0.0130 - accuracy: 0.9966 - val_loss: 0.0870 - val_accuracy: 0.9805\n",
      "Epoch 40/150\n",
      "19/19 [==============================] - 16s 818ms/step - loss: 0.0058 - accuracy: 0.9974 - val_loss: 0.0677 - val_accuracy: 0.9805\n",
      "Epoch 41/150\n",
      "19/19 [==============================] - 16s 858ms/step - loss: 0.0140 - accuracy: 0.9966 - val_loss: 0.0278 - val_accuracy: 0.9740\n",
      "Epoch 42/150\n",
      "19/19 [==============================] - 18s 942ms/step - loss: 0.0132 - accuracy: 0.9966 - val_loss: 0.0202 - val_accuracy: 0.9935\n",
      "Epoch 43/150\n",
      "19/19 [==============================] - 17s 880ms/step - loss: 0.0025 - accuracy: 1.0000 - val_loss: 0.0415 - val_accuracy: 0.9805\n",
      "Epoch 44/150\n",
      "19/19 [==============================] - 16s 852ms/step - loss: 0.0067 - accuracy: 0.9974 - val_loss: 2.7220e-05 - val_accuracy: 0.9870\n",
      "Epoch 45/150\n",
      "19/19 [==============================] - 17s 876ms/step - loss: 0.0090 - accuracy: 0.9966 - val_loss: 0.0139 - val_accuracy: 0.9792\n",
      "Epoch 46/150\n",
      "19/19 [==============================] - 17s 891ms/step - loss: 0.0071 - accuracy: 0.9966 - val_loss: 0.0435 - val_accuracy: 0.9870\n",
      "Epoch 47/150\n",
      "19/19 [==============================] - 15s 794ms/step - loss: 0.0031 - accuracy: 0.9991 - val_loss: 0.0448 - val_accuracy: 0.9870\n",
      "Epoch 48/150\n",
      "19/19 [==============================] - 17s 911ms/step - loss: 0.0029 - accuracy: 0.9992 - val_loss: 7.1663e-04 - val_accuracy: 0.9935\n",
      "Epoch 49/150\n",
      "19/19 [==============================] - 16s 843ms/step - loss: 0.0086 - accuracy: 0.9991 - val_loss: 0.0362 - val_accuracy: 0.9948\n",
      "Epoch 50/150\n",
      "19/19 [==============================] - 19s 976ms/step - loss: 0.0109 - accuracy: 0.9967 - val_loss: 0.0222 - val_accuracy: 0.9870\n",
      "Epoch 51/150\n",
      "19/19 [==============================] - 15s 785ms/step - loss: 0.0088 - accuracy: 0.9964 - val_loss: 0.0011 - val_accuracy: 1.0000\n",
      "Epoch 52/150\n",
      "19/19 [==============================] - 17s 888ms/step - loss: 0.0134 - accuracy: 0.9959 - val_loss: 3.7920e-05 - val_accuracy: 0.9740\n",
      "Epoch 53/150\n",
      "19/19 [==============================] - 15s 777ms/step - loss: 0.0081 - accuracy: 0.9964 - val_loss: 0.0143 - val_accuracy: 0.9792\n",
      "Epoch 54/150\n",
      "19/19 [==============================] - 19s 1s/step - loss: 0.0116 - accuracy: 0.9959 - val_loss: 0.0747 - val_accuracy: 0.9740\n",
      "Epoch 55/150\n",
      "19/19 [==============================] - 15s 811ms/step - loss: 0.0101 - accuracy: 0.9957 - val_loss: 0.0092 - val_accuracy: 1.0000\n",
      "Epoch 56/150\n",
      "19/19 [==============================] - 15s 791ms/step - loss: 0.0128 - accuracy: 0.9949 - val_loss: 0.1211 - val_accuracy: 0.9740\n",
      "Epoch 57/150\n"
     ]
    },
    {
     "name": "stdout",
     "output_type": "stream",
     "text": [
      "19/19 [==============================] - 16s 868ms/step - loss: 0.0133 - accuracy: 0.9949 - val_loss: 0.0323 - val_accuracy: 0.9740\n",
      "Epoch 58/150\n",
      "19/19 [==============================] - 18s 950ms/step - loss: 0.0166 - accuracy: 0.9932 - val_loss: 0.0583 - val_accuracy: 0.9870\n",
      "Epoch 59/150\n",
      "19/19 [==============================] - 15s 776ms/step - loss: 0.0175 - accuracy: 0.9920 - val_loss: 4.1222e-04 - val_accuracy: 0.9870\n",
      "Epoch 60/150\n",
      "19/19 [==============================] - 17s 892ms/step - loss: 0.0160 - accuracy: 0.9934 - val_loss: 0.0014 - val_accuracy: 0.9935\n",
      "Epoch 61/150\n",
      "19/19 [==============================] - 17s 870ms/step - loss: 0.0022 - accuracy: 1.0000 - val_loss: 0.0263 - val_accuracy: 0.9948\n",
      "Epoch 62/150\n",
      "19/19 [==============================] - 17s 918ms/step - loss: 0.0028 - accuracy: 0.9983 - val_loss: 0.0612 - val_accuracy: 0.9935\n",
      "Epoch 63/150\n",
      "19/19 [==============================] - 16s 838ms/step - loss: 0.0122 - accuracy: 0.9957 - val_loss: 0.0132 - val_accuracy: 0.9870\n",
      "Epoch 64/150\n",
      "19/19 [==============================] - 16s 859ms/step - loss: 0.0054 - accuracy: 0.9983 - val_loss: 0.0085 - val_accuracy: 0.9935\n",
      "Epoch 65/150\n",
      "19/19 [==============================] - 17s 885ms/step - loss: 0.0150 - accuracy: 0.9974 - val_loss: 0.0479 - val_accuracy: 0.9844\n",
      "Epoch 66/150\n",
      "19/19 [==============================] - 17s 881ms/step - loss: 0.0123 - accuracy: 0.9957 - val_loss: 0.0132 - val_accuracy: 0.9935\n",
      "Epoch 67/150\n",
      "19/19 [==============================] - 17s 876ms/step - loss: 0.0112 - accuracy: 0.9957 - val_loss: 0.0116 - val_accuracy: 0.9935\n",
      "Epoch 68/150\n",
      "19/19 [==============================] - 16s 824ms/step - loss: 0.0143 - accuracy: 0.9974 - val_loss: 4.7910e-06 - val_accuracy: 1.0000\n",
      "Epoch 69/150\n",
      "19/19 [==============================] - 15s 816ms/step - loss: 0.0055 - accuracy: 0.9983 - val_loss: 0.0010 - val_accuracy: 0.9948\n",
      "Epoch 70/150\n",
      "19/19 [==============================] - 18s 943ms/step - loss: 0.0051 - accuracy: 0.9991 - val_loss: 0.0027 - val_accuracy: 1.0000\n",
      "Epoch 71/150\n",
      "19/19 [==============================] - 15s 802ms/step - loss: 0.0057 - accuracy: 0.9974 - val_loss: 0.0149 - val_accuracy: 0.9870\n",
      "Epoch 72/150\n",
      "19/19 [==============================] - 17s 892ms/step - loss: 0.0195 - accuracy: 0.9951 - val_loss: 0.0014 - val_accuracy: 0.9870\n",
      "Epoch 73/150\n",
      "19/19 [==============================] - 15s 794ms/step - loss: 0.0040 - accuracy: 0.9991 - val_loss: 0.0786 - val_accuracy: 0.9948\n",
      "Epoch 74/150\n",
      "19/19 [==============================] - 18s 926ms/step - loss: 0.0065 - accuracy: 0.9982 - val_loss: 0.0621 - val_accuracy: 0.9935\n",
      "Epoch 75/150\n",
      "19/19 [==============================] - 16s 835ms/step - loss: 0.0031 - accuracy: 0.9984 - val_loss: 0.0022 - val_accuracy: 1.0000\n",
      "Epoch 76/150\n",
      "19/19 [==============================] - 16s 848ms/step - loss: 0.0055 - accuracy: 0.9974 - val_loss: 1.7881e-07 - val_accuracy: 0.9935\n",
      "Epoch 77/150\n",
      "19/19 [==============================] - 17s 878ms/step - loss: 0.0011 - accuracy: 1.0000 - val_loss: 0.0011 - val_accuracy: 0.9948\n",
      "Epoch 78/150\n",
      "19/19 [==============================] - 17s 911ms/step - loss: 0.0015 - accuracy: 1.0000 - val_loss: 0.0019 - val_accuracy: 0.9870\n",
      "Epoch 79/150\n",
      "19/19 [==============================] - 16s 840ms/step - loss: 0.0053 - accuracy: 0.9974 - val_loss: 6.8795e-05 - val_accuracy: 1.0000\n",
      "Epoch 80/150\n",
      "19/19 [==============================] - 15s 814ms/step - loss: 0.0013 - accuracy: 0.9991 - val_loss: 0.0061 - val_accuracy: 1.0000\n",
      "Epoch 81/150\n",
      "19/19 [==============================] - 17s 880ms/step - loss: 6.8115e-04 - accuracy: 1.0000 - val_loss: 1.7954e-04 - val_accuracy: 1.0000\n",
      "Epoch 82/150\n",
      "19/19 [==============================] - 17s 908ms/step - loss: 0.0085 - accuracy: 0.9983 - val_loss: 3.8674e-04 - val_accuracy: 0.9870\n",
      "Epoch 83/150\n",
      "19/19 [==============================] - 17s 914ms/step - loss: 0.0073 - accuracy: 0.9983 - val_loss: 0.0336 - val_accuracy: 0.9740\n",
      "Epoch 84/150\n",
      "19/19 [==============================] - 16s 818ms/step - loss: 0.0070 - accuracy: 0.9984 - val_loss: 4.9730e-05 - val_accuracy: 0.9870\n",
      "Epoch 85/150\n",
      "19/19 [==============================] - 16s 845ms/step - loss: 0.0017 - accuracy: 1.0000 - val_loss: 0.0081 - val_accuracy: 0.9948\n",
      "Epoch 86/150\n",
      "19/19 [==============================] - 18s 934ms/step - loss: 0.0037 - accuracy: 0.9992 - val_loss: 0.0529 - val_accuracy: 0.9935\n",
      "Epoch 87/150\n",
      "19/19 [==============================] - 16s 818ms/step - loss: 0.0072 - accuracy: 0.9964 - val_loss: 0.0017 - val_accuracy: 1.0000\n",
      "Epoch 88/150\n",
      "19/19 [==============================] - 16s 856ms/step - loss: 0.0020 - accuracy: 1.0000 - val_loss: 0.0125 - val_accuracy: 0.9870\n",
      "Epoch 89/150\n",
      "19/19 [==============================] - 16s 848ms/step - loss: 0.0022 - accuracy: 0.9991 - val_loss: 0.0169 - val_accuracy: 0.9948\n",
      "Epoch 90/150\n",
      "19/19 [==============================] - 17s 914ms/step - loss: 0.0077 - accuracy: 0.9974 - val_loss: 0.0491 - val_accuracy: 0.9740\n",
      "Epoch 91/150\n",
      "19/19 [==============================] - 16s 836ms/step - loss: 0.0035 - accuracy: 0.9991 - val_loss: 8.8477e-06 - val_accuracy: 1.0000\n",
      "Epoch 92/150\n",
      "19/19 [==============================] - 16s 844ms/step - loss: 0.0028 - accuracy: 0.9983 - val_loss: 0.0042 - val_accuracy: 0.9870\n",
      "Epoch 93/150\n",
      "19/19 [==============================] - 16s 856ms/step - loss: 0.0012 - accuracy: 1.0000 - val_loss: 1.4389e-04 - val_accuracy: 0.9948\n",
      "Epoch 94/150\n",
      "19/19 [==============================] - 18s 944ms/step - loss: 8.2222e-04 - accuracy: 1.0000 - val_loss: 3.2877e-04 - val_accuracy: 0.9805\n",
      "Epoch 95/150\n",
      "19/19 [==============================] - 16s 832ms/step - loss: 0.0012 - accuracy: 0.9991 - val_loss: 7.0440e-05 - val_accuracy: 1.0000\n",
      "Epoch 96/150\n",
      "19/19 [==============================] - 16s 835ms/step - loss: 0.0083 - accuracy: 0.9974 - val_loss: 0.1230 - val_accuracy: 0.9870\n",
      "Epoch 97/150\n",
      "19/19 [==============================] - 16s 845ms/step - loss: 0.0119 - accuracy: 0.9974 - val_loss: 0.0015 - val_accuracy: 1.0000\n",
      "Epoch 98/150\n",
      "19/19 [==============================] - 17s 900ms/step - loss: 0.0102 - accuracy: 0.9974 - val_loss: 0.0054 - val_accuracy: 1.0000\n",
      "Epoch 99/150\n",
      "19/19 [==============================] - 16s 834ms/step - loss: 0.0038 - accuracy: 0.9983 - val_loss: 0.0282 - val_accuracy: 0.9935\n",
      "Epoch 100/150\n",
      "19/19 [==============================] - 16s 816ms/step - loss: 0.0010 - accuracy: 1.0000 - val_loss: 0.0000e+00 - val_accuracy: 0.9870\n",
      "Epoch 101/150\n",
      "19/19 [==============================] - 16s 860ms/step - loss: 0.0349 - accuracy: 0.9906 - val_loss: 0.0073 - val_accuracy: 0.9896\n",
      "Epoch 102/150\n",
      "19/19 [==============================] - 18s 930ms/step - loss: 0.0181 - accuracy: 0.9940 - val_loss: 0.1091 - val_accuracy: 0.9935\n",
      "Epoch 103/150\n",
      "19/19 [==============================] - 16s 851ms/step - loss: 0.0138 - accuracy: 0.9957 - val_loss: 0.1480 - val_accuracy: 0.9870\n",
      "Epoch 104/150\n",
      "19/19 [==============================] - 15s 811ms/step - loss: 0.0048 - accuracy: 0.9975 - val_loss: 2.2925e-08 - val_accuracy: 0.9935\n",
      "Epoch 105/150\n",
      "19/19 [==============================] - 16s 867ms/step - loss: 0.0084 - accuracy: 0.9956 - val_loss: 0.1149 - val_accuracy: 0.9740\n",
      "Epoch 106/150\n",
      "19/19 [==============================] - 17s 908ms/step - loss: 0.0237 - accuracy: 0.9923 - val_loss: 0.0067 - val_accuracy: 0.9870\n",
      "Epoch 107/150\n",
      "19/19 [==============================] - 16s 860ms/step - loss: 0.0041 - accuracy: 0.9992 - val_loss: 0.0679 - val_accuracy: 0.9935\n",
      "Epoch 108/150\n",
      "19/19 [==============================] - 15s 782ms/step - loss: 0.0122 - accuracy: 0.9964 - val_loss: 4.1309e-06 - val_accuracy: 0.9935\n",
      "Epoch 109/150\n",
      "19/19 [==============================] - 17s 875ms/step - loss: 0.0065 - accuracy: 0.9984 - val_loss: 0.0660 - val_accuracy: 0.9792\n",
      "Epoch 110/150\n",
      "19/19 [==============================] - 17s 900ms/step - loss: 0.0019 - accuracy: 0.9991 - val_loss: 0.0021 - val_accuracy: 1.0000\n",
      "Epoch 111/150\n",
      "19/19 [==============================] - 16s 825ms/step - loss: 0.0019 - accuracy: 0.9991 - val_loss: 0.0676 - val_accuracy: 0.9870\n",
      "Epoch 112/150\n",
      "19/19 [==============================] - 15s 795ms/step - loss: 0.0066 - accuracy: 0.9983 - val_loss: 9.1699e-09 - val_accuracy: 0.9935\n",
      "Epoch 113/150\n"
     ]
    },
    {
     "name": "stdout",
     "output_type": "stream",
     "text": [
      "19/19 [==============================] - 18s 930ms/step - loss: 0.0082 - accuracy: 0.9992 - val_loss: 0.0403 - val_accuracy: 0.9844\n",
      "Epoch 114/150\n",
      "19/19 [==============================] - 17s 872ms/step - loss: 0.0019 - accuracy: 1.0000 - val_loss: 0.0519 - val_accuracy: 0.9935\n",
      "Epoch 115/150\n",
      "19/19 [==============================] - 16s 842ms/step - loss: 0.0015 - accuracy: 0.9992 - val_loss: 5.2752e-04 - val_accuracy: 1.0000\n",
      "Epoch 116/150\n",
      "19/19 [==============================] - 16s 827ms/step - loss: 0.0054 - accuracy: 0.9974 - val_loss: 9.1699e-09 - val_accuracy: 0.9935\n",
      "Epoch 117/150\n",
      "19/19 [==============================] - 17s 869ms/step - loss: 0.0044 - accuracy: 0.9991 - val_loss: 0.0018 - val_accuracy: 0.9844\n",
      "Epoch 118/150\n",
      "19/19 [==============================] - 17s 920ms/step - loss: 0.0010 - accuracy: 1.0000 - val_loss: 0.0029 - val_accuracy: 0.9935\n",
      "Epoch 119/150\n",
      "19/19 [==============================] - 16s 823ms/step - loss: 0.0013 - accuracy: 0.9991 - val_loss: 0.0021 - val_accuracy: 0.9935\n",
      "Epoch 120/150\n",
      "19/19 [==============================] - 15s 799ms/step - loss: 3.0660e-04 - accuracy: 1.0000 - val_loss: 1.3755e-08 - val_accuracy: 0.9935\n",
      "Epoch 121/150\n",
      "19/19 [==============================] - 16s 866ms/step - loss: 0.0025 - accuracy: 0.9983 - val_loss: 0.0036 - val_accuracy: 0.9948\n",
      "Epoch 122/150\n",
      "19/19 [==============================] - 17s 913ms/step - loss: 0.0017 - accuracy: 0.9991 - val_loss: 0.0487 - val_accuracy: 0.9935\n",
      "Epoch 123/150\n",
      "19/19 [==============================] - 17s 900ms/step - loss: 5.3053e-04 - accuracy: 1.0000 - val_loss: 4.5112e-04 - val_accuracy: 1.0000\n",
      "Epoch 124/150\n",
      "19/19 [==============================] - 16s 832ms/step - loss: 9.0374e-04 - accuracy: 1.0000 - val_loss: 5.2346e-04 - val_accuracy: 0.9935\n",
      "Epoch 125/150\n",
      "19/19 [==============================] - 16s 857ms/step - loss: 0.0011 - accuracy: 0.9991 - val_loss: 0.0077 - val_accuracy: 0.9948\n",
      "Epoch 126/150\n",
      "19/19 [==============================] - 18s 939ms/step - loss: 5.3265e-04 - accuracy: 1.0000 - val_loss: 0.0218 - val_accuracy: 0.9935\n",
      "Epoch 127/150\n",
      "19/19 [==============================] - 16s 826ms/step - loss: 0.0010 - accuracy: 0.9991 - val_loss: 2.3607e-04 - val_accuracy: 1.0000\n",
      "Epoch 128/150\n",
      "19/19 [==============================] - 15s 785ms/step - loss: 0.0012 - accuracy: 0.9991 - val_loss: 0.0066 - val_accuracy: 0.9870\n",
      "Epoch 129/150\n",
      "19/19 [==============================] - 17s 898ms/step - loss: 0.0058 - accuracy: 0.9974 - val_loss: 0.0622 - val_accuracy: 0.9948\n",
      "Epoch 130/150\n",
      "19/19 [==============================] - 17s 881ms/step - loss: 4.3671e-04 - accuracy: 1.0000 - val_loss: 3.4346e-04 - val_accuracy: 1.0000\n",
      "Epoch 131/150\n",
      "19/19 [==============================] - 17s 884ms/step - loss: 0.0140 - accuracy: 0.9966 - val_loss: 6.1701e-04 - val_accuracy: 1.0000\n",
      "Epoch 132/150\n",
      "19/19 [==============================] - 15s 791ms/step - loss: 0.0156 - accuracy: 0.9940 - val_loss: 0.0555 - val_accuracy: 0.9740\n",
      "Epoch 133/150\n",
      "19/19 [==============================] - 16s 837ms/step - loss: 0.0084 - accuracy: 0.9974 - val_loss: 5.1134e-04 - val_accuracy: 1.0000\n",
      "Epoch 134/150\n",
      "19/19 [==============================] - 18s 966ms/step - loss: 0.0019 - accuracy: 1.0000 - val_loss: 0.0019 - val_accuracy: 1.0000\n",
      "Epoch 135/150\n",
      "19/19 [==============================] - 16s 831ms/step - loss: 0.0146 - accuracy: 0.9974 - val_loss: 5.8673e-07 - val_accuracy: 0.9870\n",
      "Epoch 136/150\n",
      "19/19 [==============================] - 15s 786ms/step - loss: 0.0047 - accuracy: 0.9991 - val_loss: 0.0334 - val_accuracy: 0.9805\n",
      "Epoch 137/150\n",
      "19/19 [==============================] - 17s 889ms/step - loss: 0.0020 - accuracy: 0.9991 - val_loss: 0.0013 - val_accuracy: 0.9948\n",
      "Epoch 138/150\n",
      "19/19 [==============================] - 17s 903ms/step - loss: 0.0048 - accuracy: 0.9991 - val_loss: 1.3038e-07 - val_accuracy: 1.0000\n",
      "Epoch 139/150\n",
      "19/19 [==============================] - 16s 835ms/step - loss: 0.0030 - accuracy: 1.0000 - val_loss: 0.0046 - val_accuracy: 0.9935\n",
      "Epoch 140/150\n",
      "19/19 [==============================] - 3378s 178s/step - loss: 5.9710e-04 - accuracy: 1.0000 - val_loss: 6.1664e-05 - val_accuracy: 0.9935\n",
      "Epoch 141/150\n",
      "19/19 [==============================] - 16s 845ms/step - loss: 7.9941e-04 - accuracy: 1.0000 - val_loss: 1.1445e-04 - val_accuracy: 1.0000\n",
      "Epoch 142/150\n",
      "19/19 [==============================] - 16s 855ms/step - loss: 0.0025 - accuracy: 0.9991 - val_loss: 8.9537e-04 - val_accuracy: 1.0000\n",
      "Epoch 143/150\n",
      "19/19 [==============================] - 15s 794ms/step - loss: 0.0011 - accuracy: 0.9991 - val_loss: 0.0295 - val_accuracy: 0.9805\n",
      "Epoch 144/150\n",
      "19/19 [==============================] - 14s 748ms/step - loss: 0.0013 - accuracy: 0.9991 - val_loss: 1.1411e-04 - val_accuracy: 1.0000\n",
      "Epoch 145/150\n",
      "19/19 [==============================] - 15s 791ms/step - loss: 7.1906e-04 - accuracy: 1.0000 - val_loss: 3.5552e-04 - val_accuracy: 0.9948\n",
      "Epoch 146/150\n",
      "19/19 [==============================] - 17s 884ms/step - loss: 0.0032 - accuracy: 0.9992 - val_loss: 2.0497e-04 - val_accuracy: 0.9935\n",
      "Epoch 147/150\n",
      "19/19 [==============================] - 15s 811ms/step - loss: 0.0019 - accuracy: 0.9991 - val_loss: 1.4521e-04 - val_accuracy: 0.9870\n",
      "Epoch 148/150\n",
      "19/19 [==============================] - 16s 816ms/step - loss: 3.5600e-04 - accuracy: 1.0000 - val_loss: 0.0071 - val_accuracy: 0.9935\n",
      "Epoch 149/150\n",
      "19/19 [==============================] - 16s 828ms/step - loss: 0.0043 - accuracy: 0.9983 - val_loss: 7.2674e-04 - val_accuracy: 1.0000\n",
      "Epoch 150/150\n",
      "19/19 [==============================] - 18s 972ms/step - loss: 0.0017 - accuracy: 0.9992 - val_loss: 0.0161 - val_accuracy: 0.9935\n"
     ]
    }
   ],
   "source": [
    "model.compile(optimizer='adam',loss='categorical_crossentropy',metrics=['accuracy'])\n",
    "history = model.fit_generator(\n",
    "            train_generator,\n",
    "            steps_per_epoch=num_train // batch_size,\n",
    "            epochs=150,\n",
    "            validation_data=validation_generator,\n",
    "            validation_steps=num_val // batch_size)"
   ]
  },
  {
   "cell_type": "code",
   "execution_count": 45,
   "metadata": {},
   "outputs": [],
   "source": [
    "model.save('drowsy_driver/model_eye.h5', overwrite=True)"
   ]
  },
  {
   "cell_type": "code",
   "execution_count": 29,
   "metadata": {},
   "outputs": [
    {
     "data": {
      "image/png": "[encoded data removed]",
      "text/plain": [
       "<Figure size 432x288 with 1 Axes>"
      ]
     },
     "metadata": {
      "needs_background": "light"
     },
     "output_type": "display_data"
    },
    {
     "data": {
      "image/png": "[encoded data removed]",
      "text/plain": [
       "<Figure size 432x288 with 1 Axes>"
      ]
     },
     "metadata": {
      "needs_background": "light"
     },
     "output_type": "display_data"
    }
   ],
   "source": [
    "acc = history.history['accuracy']\n",
    "val_acc = history.history['val_accuracy']\n",
    "loss = history.history['loss']\n",
    "val_loss = history.history['val_loss']\n",
    "epochs = range(1, 151)\n",
    "\n",
    "#accuracy plot\n",
    "plt.plot(epochs, acc, color='green', label='Training Accuracy')\n",
    "plt.plot(epochs, val_acc, color='blue', label='Validation Accuracy')\n",
    "plt.title('Training and Validation Accuracy')\n",
    "plt.ylabel('Accuracy')\n",
    "plt.xlabel('Epoch')\n",
    "plt.legend()\n",
    "\n",
    "plt.figure()\n",
    "#loss plot\n",
    "plt.plot(epochs, loss, color='green', label='Training Loss')\n",
    "plt.xlabel('Epoch')\n",
    "plt.ylabel('Loss')\n",
    "plt.legend()\n",
    "\n",
    "plt.show()"
   ]
  },
  {
   "cell_type": "code",
   "execution_count": 27,
   "metadata": {},
   "outputs": [
    {
     "name": "stdout",
     "output_type": "stream",
     "text": [
      "Found 4000 images belonging to 2 classes.\n"
     ]
    }
   ],
   "source": [
    "tes_d ='datasets/train'\n",
    "test_data = ImageDataGenerator(\n",
    "        rescale=1./255,\n",
    "        shear_range=0.2,\n",
    "        zoom_range=0.2,\n",
    "        horizontal_flip=True)\n",
    "\n",
    "test_gen = test_data.flow_from_directory(\n",
    "        tes_d,\n",
    "        target_size=(48, 48),\n",
    "        batch_size=64,\n",
    "        color_mode=\"grayscale\",\n",
    "        class_mode='categorical')"
   ]
  },
  {
   "cell_type": "code",
   "execution_count": 39,
   "metadata": {},
   "outputs": [
    {
     "name": "stdout",
     "output_type": "stream",
     "text": [
      "63/63 [==============================] - 8s 125ms/step\n"
     ]
    },
    {
     "data": {
      "text/plain": [
       "[0.8264451622962952, 0.9432500004768372]"
      ]
     },
     "execution_count": 39,
     "metadata": {},
     "output_type": "execute_result"
    }
   ],
   "source": [
    "model.evaluate(test_gen)"
   ]
  },
  {
   "cell_type": "code",
   "execution_count": 46,
   "metadata": {},
   "outputs": [
    {
     "name": "stdout",
     "output_type": "stream",
     "text": [
      "Model: \"sequential_3\"\n",
      "_________________________________________________________________\n",
      "Layer (type)                 Output Shape              Param #   \n",
      "=================================================================\n",
      "conv2d_8 (Conv2D)            (None, 46, 46, 32)        320       \n",
      "_________________________________________________________________\n",
      "conv2d_9 (Conv2D)            (None, 44, 44, 64)        18496     \n",
      "_________________________________________________________________\n",
      "max_pooling2d_9 (MaxPooling2 (None, 22, 22, 64)        0         \n",
      "_________________________________________________________________\n",
      "conv2d_10 (Conv2D)           (None, 20, 20, 128)       73856     \n",
      "_________________________________________________________________\n",
      "max_pooling2d_10 (MaxPooling (None, 10, 10, 128)       0         \n",
      "_________________________________________________________________\n",
      "dropout_6 (Dropout)          (None, 10, 10, 128)       0         \n",
      "_________________________________________________________________\n",
      "flatten_3 (Flatten)          (None, 12800)             0         \n",
      "_________________________________________________________________\n",
      "dense_5 (Dense)              (None, 1024)              13108224  \n",
      "_________________________________________________________________\n",
      "dropout_7 (Dropout)          (None, 1024)              0         \n",
      "_________________________________________________________________\n",
      "dense_6 (Dense)              (None, 2)                 2050      \n",
      "=================================================================\n",
      "Total params: 13,202,946\n",
      "Trainable params: 13,202,946\n",
      "Non-trainable params: 0\n",
      "_________________________________________________________________\n"
     ]
    }
   ],
   "source": [
    "model.summary()"
   ]
  },
  {
   "cell_type": "code",
   "execution_count": null,
   "metadata": {},
   "outputs": [],
   "source": []
  }
 ],
 "metadata": {
  "kernelspec": {
   "display_name": "Python 3",
   "language": "python",
   "name": "python3"
  },
  "language_info": {
   "codemirror_mode": {
    "name": "ipython",
    "version": 3
   },
   "file_extension": ".py",
   "mimetype": "text/x-python",
   "name": "python",
   "nbconvert_exporter": "python",
   "pygments_lexer": "ipython3",
   "version": "3.8.5"
  }
 },
 "nbformat": 4,
 "nbformat_minor": 4
}
